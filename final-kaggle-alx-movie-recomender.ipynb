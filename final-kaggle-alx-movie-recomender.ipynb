{
 "cells": [
  {
   "cell_type": "code",
   "execution_count": 1,
   "id": "f0c872b4",
   "metadata": {
    "_cell_guid": "b1076dfc-b9ad-4769-8c92-a6c4dae69d19",
    "_uuid": "8f2839f25d086af736a60e9eeb907d3b93b6e0e5",
    "execution": {
     "iopub.execute_input": "2024-06-22T06:18:38.720888Z",
     "iopub.status.busy": "2024-06-22T06:18:38.720455Z",
     "iopub.status.idle": "2024-06-22T06:18:39.632562Z",
     "shell.execute_reply": "2024-06-22T06:18:39.631265Z"
    },
    "papermill": {
     "duration": 0.921604,
     "end_time": "2024-06-22T06:18:39.635243",
     "exception": false,
     "start_time": "2024-06-22T06:18:38.713639",
     "status": "completed"
    },
    "tags": []
   },
   "outputs": [
    {
     "name": "stdout",
     "output_type": "stream",
     "text": [
      "/kaggle/input/alx-movie-recommendation-project-2024/sample_submission.csv\n",
      "/kaggle/input/alx-movie-recommendation-project-2024/movies.csv\n",
      "/kaggle/input/alx-movie-recommendation-project-2024/imdb_data.csv\n",
      "/kaggle/input/alx-movie-recommendation-project-2024/genome_tags.csv\n",
      "/kaggle/input/alx-movie-recommendation-project-2024/genome_scores.csv\n",
      "/kaggle/input/alx-movie-recommendation-project-2024/train.csv\n",
      "/kaggle/input/alx-movie-recommendation-project-2024/test.csv\n",
      "/kaggle/input/alx-movie-recommendation-project-2024/tags.csv\n",
      "/kaggle/input/alx-movie-recommendation-project-2024/links.csv\n"
     ]
    }
   ],
   "source": [
    "# This Python 3 environment comes with many helpful analytics libraries installed\n",
    "# It is defined by the kaggle/python Docker image: https://github.com/kaggle/docker-python\n",
    "# For example, here's several helpful packages to load\n",
    "\n",
    "import numpy as np # linear algebra\n",
    "import pandas as pd # data processing, CSV file I/O (e.g. pd.read_csv)\n",
    "\n",
    "# Input data files are available in the read-only \"../input/\" directory\n",
    "# For example, running this (by clicking run or pressing Shift+Enter) will list all files under the input directory\n",
    "\n",
    "import os\n",
    "for dirname, _, filenames in os.walk('/kaggle/input'):\n",
    "    for filename in filenames:\n",
    "        print(os.path.join(dirname, filename))\n",
    "\n",
    "# You can write up to 20GB to the current directory (/kaggle/working/) that gets preserved as output when you create a version using \"Save & Run All\" \n",
    "# You can also write temporary files to /kaggle/temp/, but they won't be saved outside of the current session"
   ]
  },
  {
   "cell_type": "code",
   "execution_count": 2,
   "id": "779535ec",
   "metadata": {
    "execution": {
     "iopub.execute_input": "2024-06-22T06:18:39.646638Z",
     "iopub.status.busy": "2024-06-22T06:18:39.646139Z",
     "iopub.status.idle": "2024-06-22T06:18:42.148751Z",
     "shell.execute_reply": "2024-06-22T06:18:42.147655Z"
    },
    "papermill": {
     "duration": 2.511296,
     "end_time": "2024-06-22T06:18:42.151411",
     "exception": false,
     "start_time": "2024-06-22T06:18:39.640115",
     "status": "completed"
    },
    "tags": []
   },
   "outputs": [],
   "source": [
    "# Libraries for importing and loading data\n",
    "import numpy as np\n",
    "import pandas as pd\n",
    "from nltk.tokenize import word_tokenize, TreebankWordTokenizer\n",
    "import scipy as sp\n",
    "import matplotlib.pyplot as plt\n",
    "import seaborn as sns\n",
    "import os\n",
    "#from textwrap import wrap\n",
    "import re\n",
    "#from wordcloud import WordCloud\n",
    "\n",
    "# Entity featurization and similarity computation\n",
    "from sklearn.metrics.pairwise import cosine_similarity\n",
    "from sklearn.feature_extraction.text import TfidfVectorizer\n",
    "from surprise import SVD\n",
    "from surprise import Reader, Dataset\n",
    "from surprise.model_selection import GridSearchCV, cross_validate\n",
    "\n",
    "\n",
    "# Libraries used during sorting procedures.\n",
    "#import operator # <-- Convienient item retrieval during iteration\n",
    "#import heapq # <-- Efficient sorting of large lists\n",
    "from time import time\n",
    "\n",
    "# Setting global constants to ensure notebook results are reproducible\n",
    "\n",
    "RANDOM_STATE = 25\n",
    "\n",
    "\n",
    "import warnings\n",
    "warnings.filterwarnings('ignore')\n",
    "\n",
    "\n",
    "# Garbage Collector\n",
    "import gc"
   ]
  },
  {
   "cell_type": "code",
   "execution_count": 3,
   "id": "533a869c",
   "metadata": {
    "execution": {
     "iopub.execute_input": "2024-06-22T06:18:42.162507Z",
     "iopub.status.busy": "2024-06-22T06:18:42.161973Z",
     "iopub.status.idle": "2024-06-22T06:18:49.573742Z",
     "shell.execute_reply": "2024-06-22T06:18:49.572360Z"
    },
    "papermill": {
     "duration": 7.420562,
     "end_time": "2024-06-22T06:18:49.576610",
     "exception": false,
     "start_time": "2024-06-22T06:18:42.156048",
     "status": "completed"
    },
    "tags": []
   },
   "outputs": [],
   "source": [
    "test  = pd.read_csv('/kaggle/input/alx-movie-recommendation-project-2024/test.csv')\n",
    "train = pd.read_csv('/kaggle/input/alx-movie-recommendation-project-2024/train.csv')"
   ]
  },
  {
   "cell_type": "code",
   "execution_count": 4,
   "id": "1d98889d",
   "metadata": {
    "execution": {
     "iopub.execute_input": "2024-06-22T06:18:49.587815Z",
     "iopub.status.busy": "2024-06-22T06:18:49.587421Z",
     "iopub.status.idle": "2024-06-22T06:18:52.280089Z",
     "shell.execute_reply": "2024-06-22T06:18:52.278902Z"
    },
    "papermill": {
     "duration": 2.700916,
     "end_time": "2024-06-22T06:18:52.282347",
     "exception": false,
     "start_time": "2024-06-22T06:18:49.581431",
     "status": "completed"
    },
    "tags": []
   },
   "outputs": [
    {
     "data": {
      "text/html": [
       "<div>\n",
       "<style scoped>\n",
       "    .dataframe tbody tr th:only-of-type {\n",
       "        vertical-align: middle;\n",
       "    }\n",
       "\n",
       "    .dataframe tbody tr th {\n",
       "        vertical-align: top;\n",
       "    }\n",
       "\n",
       "    .dataframe thead th {\n",
       "        text-align: right;\n",
       "    }\n",
       "</style>\n",
       "<table border=\"1\" class=\"dataframe\">\n",
       "  <thead>\n",
       "    <tr style=\"text-align: right;\">\n",
       "      <th></th>\n",
       "      <th>userId</th>\n",
       "      <th>movieId</th>\n",
       "      <th>rating</th>\n",
       "      <th>timestamp</th>\n",
       "    </tr>\n",
       "  </thead>\n",
       "  <tbody>\n",
       "    <tr>\n",
       "      <th>6308822</th>\n",
       "      <td>1</td>\n",
       "      <td>296</td>\n",
       "      <td>5.0</td>\n",
       "      <td>1147880044</td>\n",
       "    </tr>\n",
       "    <tr>\n",
       "      <th>3137042</th>\n",
       "      <td>1</td>\n",
       "      <td>27721</td>\n",
       "      <td>3.0</td>\n",
       "      <td>1147869115</td>\n",
       "    </tr>\n",
       "    <tr>\n",
       "      <th>2533005</th>\n",
       "      <td>1</td>\n",
       "      <td>665</td>\n",
       "      <td>5.0</td>\n",
       "      <td>1147878820</td>\n",
       "    </tr>\n",
       "    <tr>\n",
       "      <th>2524478</th>\n",
       "      <td>1</td>\n",
       "      <td>4308</td>\n",
       "      <td>3.0</td>\n",
       "      <td>1147868534</td>\n",
       "    </tr>\n",
       "    <tr>\n",
       "      <th>1946297</th>\n",
       "      <td>1</td>\n",
       "      <td>1250</td>\n",
       "      <td>4.0</td>\n",
       "      <td>1147868414</td>\n",
       "    </tr>\n",
       "  </tbody>\n",
       "</table>\n",
       "</div>"
      ],
      "text/plain": [
       "         userId  movieId  rating   timestamp\n",
       "6308822       1      296     5.0  1147880044\n",
       "3137042       1    27721     3.0  1147869115\n",
       "2533005       1      665     5.0  1147878820\n",
       "2524478       1     4308     3.0  1147868534\n",
       "1946297       1     1250     4.0  1147868414"
      ]
     },
     "execution_count": 4,
     "metadata": {},
     "output_type": "execute_result"
    }
   ],
   "source": [
    "train.sort_values(by=['userId'], inplace= True)\n",
    "train.head()"
   ]
  },
  {
   "cell_type": "code",
   "execution_count": 5,
   "id": "7efb6af6",
   "metadata": {
    "execution": {
     "iopub.execute_input": "2024-06-22T06:18:52.293658Z",
     "iopub.status.busy": "2024-06-22T06:18:52.293273Z",
     "iopub.status.idle": "2024-06-22T06:18:52.609474Z",
     "shell.execute_reply": "2024-06-22T06:18:52.607983Z"
    },
    "papermill": {
     "duration": 0.324943,
     "end_time": "2024-06-22T06:18:52.612109",
     "exception": false,
     "start_time": "2024-06-22T06:18:52.287166",
     "status": "completed"
    },
    "tags": []
   },
   "outputs": [
    {
     "data": {
      "text/html": [
       "<div>\n",
       "<style scoped>\n",
       "    .dataframe tbody tr th:only-of-type {\n",
       "        vertical-align: middle;\n",
       "    }\n",
       "\n",
       "    .dataframe tbody tr th {\n",
       "        vertical-align: top;\n",
       "    }\n",
       "\n",
       "    .dataframe thead th {\n",
       "        text-align: right;\n",
       "    }\n",
       "</style>\n",
       "<table border=\"1\" class=\"dataframe\">\n",
       "  <thead>\n",
       "    <tr style=\"text-align: right;\">\n",
       "      <th></th>\n",
       "      <th>userId</th>\n",
       "      <th>movieId</th>\n",
       "    </tr>\n",
       "  </thead>\n",
       "  <tbody>\n",
       "    <tr>\n",
       "      <th>0</th>\n",
       "      <td>1</td>\n",
       "      <td>2011</td>\n",
       "    </tr>\n",
       "    <tr>\n",
       "      <th>1</th>\n",
       "      <td>1</td>\n",
       "      <td>4144</td>\n",
       "    </tr>\n",
       "    <tr>\n",
       "      <th>2</th>\n",
       "      <td>1</td>\n",
       "      <td>5767</td>\n",
       "    </tr>\n",
       "    <tr>\n",
       "      <th>3</th>\n",
       "      <td>1</td>\n",
       "      <td>6711</td>\n",
       "    </tr>\n",
       "    <tr>\n",
       "      <th>4</th>\n",
       "      <td>1</td>\n",
       "      <td>7318</td>\n",
       "    </tr>\n",
       "  </tbody>\n",
       "</table>\n",
       "</div>"
      ],
      "text/plain": [
       "   userId  movieId\n",
       "0       1     2011\n",
       "1       1     4144\n",
       "2       1     5767\n",
       "3       1     6711\n",
       "4       1     7318"
      ]
     },
     "execution_count": 5,
     "metadata": {},
     "output_type": "execute_result"
    }
   ],
   "source": [
    "test.sort_values(by=['userId'], inplace= True)\n",
    "test.head()"
   ]
  },
  {
   "cell_type": "code",
   "execution_count": 6,
   "id": "0824fd86",
   "metadata": {
    "execution": {
     "iopub.execute_input": "2024-06-22T06:18:52.624165Z",
     "iopub.status.busy": "2024-06-22T06:18:52.623727Z",
     "iopub.status.idle": "2024-06-22T06:18:52.730568Z",
     "shell.execute_reply": "2024-06-22T06:18:52.729507Z"
    },
    "papermill": {
     "duration": 0.11594,
     "end_time": "2024-06-22T06:18:52.733502",
     "exception": false,
     "start_time": "2024-06-22T06:18:52.617562",
     "status": "completed"
    },
    "tags": []
   },
   "outputs": [],
   "source": [
    "train_sampled = train.drop(columns= 'timestamp')\n",
    "\n",
    "# Drop key_words column for the train dataset\n",
    "ratings = train_sampled"
   ]
  },
  {
   "cell_type": "code",
   "execution_count": 7,
   "id": "2dc06f2b",
   "metadata": {
    "execution": {
     "iopub.execute_input": "2024-06-22T06:18:52.745577Z",
     "iopub.status.busy": "2024-06-22T06:18:52.745158Z",
     "iopub.status.idle": "2024-06-22T07:18:43.381504Z",
     "shell.execute_reply": "2024-06-22T07:18:43.380311Z"
    },
    "papermill": {
     "duration": 3590.652366,
     "end_time": "2024-06-22T07:18:43.391147",
     "exception": false,
     "start_time": "2024-06-22T06:18:52.738781",
     "status": "completed"
    },
    "tags": []
   },
   "outputs": [
    {
     "name": "stdout",
     "output_type": "stream",
     "text": [
      "Processing epoch 0\n",
      "Processing epoch 1\n",
      "Processing epoch 2\n",
      "Processing epoch 3\n",
      "Processing epoch 4\n",
      "Processing epoch 5\n",
      "Processing epoch 6\n",
      "Processing epoch 7\n",
      "Processing epoch 8\n",
      "Processing epoch 9\n",
      "Processing epoch 10\n",
      "Processing epoch 11\n",
      "Processing epoch 12\n",
      "Processing epoch 13\n",
      "Processing epoch 14\n",
      "Processing epoch 15\n",
      "Processing epoch 16\n",
      "Processing epoch 17\n",
      "Processing epoch 18\n",
      "Processing epoch 19\n",
      "Processing epoch 20\n",
      "Processing epoch 21\n",
      "Processing epoch 22\n",
      "Processing epoch 23\n",
      "Processing epoch 24\n",
      "Processing epoch 25\n",
      "Processing epoch 26\n",
      "Processing epoch 27\n",
      "Processing epoch 28\n",
      "Processing epoch 29\n",
      "Processing epoch 30\n",
      "Processing epoch 31\n",
      "Processing epoch 32\n",
      "Processing epoch 33\n",
      "Processing epoch 34\n",
      "Processing epoch 35\n",
      "Processing epoch 36\n",
      "Processing epoch 37\n",
      "Processing epoch 38\n",
      "Processing epoch 39\n"
     ]
    },
    {
     "data": {
      "text/plain": [
       "<surprise.prediction_algorithms.matrix_factorization.SVD at 0x7f1f59e238e0>"
      ]
     },
     "execution_count": 7,
     "metadata": {},
     "output_type": "execute_result"
    }
   ],
   "source": [
    "# Instanciate a Reader object from surprise package\n",
    "reader = Reader()\n",
    "\n",
    "# Instanciate the dataset object from surprice package with the ratings table and reader object\n",
    "data = Dataset.load_from_df(ratings, reader)\n",
    "\n",
    "# Instantiate an SVD model from the surprice package\n",
    "svd = SVD(n_epochs=40,n_factors=2000,init_std_dev=0.005,random_state=RANDOM_STATE,verbose=1)\n",
    "\n",
    "# Instanciate and build the dataset with data object from surprise package\n",
    "trainset = data.build_full_trainset()\n",
    "\n",
    "# Train the SVD model\n",
    "svd.fit(trainset)"
   ]
  },
  {
   "cell_type": "code",
   "execution_count": 8,
   "id": "f53f2d05",
   "metadata": {
    "execution": {
     "iopub.execute_input": "2024-06-22T07:18:43.408197Z",
     "iopub.status.busy": "2024-06-22T07:18:43.407753Z",
     "iopub.status.idle": "2024-06-22T07:18:44.838062Z",
     "shell.execute_reply": "2024-06-22T07:18:44.836691Z"
    },
    "papermill": {
     "duration": 1.44186,
     "end_time": "2024-06-22T07:18:44.840603",
     "exception": false,
     "start_time": "2024-06-22T07:18:43.398743",
     "status": "completed"
    },
    "tags": []
   },
   "outputs": [
    {
     "data": {
      "text/plain": [
       "0"
      ]
     },
     "execution_count": 8,
     "metadata": {},
     "output_type": "execute_result"
    }
   ],
   "source": [
    "gc.collect()"
   ]
  },
  {
   "cell_type": "code",
   "execution_count": 9,
   "id": "c8e62c6c",
   "metadata": {
    "execution": {
     "iopub.execute_input": "2024-06-22T07:18:44.858806Z",
     "iopub.status.busy": "2024-06-22T07:18:44.858406Z",
     "iopub.status.idle": "2024-06-22T07:29:24.638503Z",
     "shell.execute_reply": "2024-06-22T07:29:24.636715Z"
    },
    "papermill": {
     "duration": 639.802649,
     "end_time": "2024-06-22T07:29:24.651945",
     "exception": false,
     "start_time": "2024-06-22T07:18:44.849296",
     "status": "completed"
    },
    "tags": []
   },
   "outputs": [
    {
     "name": "stdout",
     "output_type": "stream",
     "text": [
      "RMSE: 0.4353193268919024\n"
     ]
    }
   ],
   "source": [
    "from sklearn.metrics import mean_squared_error\n",
    "\n",
    "# Make predictions for the test set\n",
    "predictions = []\n",
    "for _, row in train_sampled.iterrows():\n",
    "    uid = row['userId']\n",
    "    iid = row['movieId']\n",
    "    true_r = row['rating']\n",
    "    pred = svd.predict(uid, iid, r_ui=true_r)\n",
    "    predictions.append((true_r, pred.est))\n",
    "\n",
    "# Separate the true ratings and the predicted ratings\n",
    "true_ratings = [true_r for true_r, pred in predictions]\n",
    "predicted_ratings = [pred for true_r, pred in predictions]\n",
    "\n",
    "# Calculate RMSE\n",
    "rmse = np.sqrt(mean_squared_error(true_ratings, predicted_ratings))\n",
    "print(f'RMSE: {rmse}')"
   ]
  },
  {
   "cell_type": "code",
   "execution_count": 10,
   "id": "dcc4eb5e",
   "metadata": {
    "execution": {
     "iopub.execute_input": "2024-06-22T07:29:24.670298Z",
     "iopub.status.busy": "2024-06-22T07:29:24.669735Z",
     "iopub.status.idle": "2024-06-22T07:29:45.646537Z",
     "shell.execute_reply": "2024-06-22T07:29:45.645326Z"
    },
    "papermill": {
     "duration": 20.989575,
     "end_time": "2024-06-22T07:29:45.649339",
     "exception": false,
     "start_time": "2024-06-22T07:29:24.659764",
     "status": "completed"
    },
    "tags": []
   },
   "outputs": [],
   "source": [
    "import pickle\n",
    "\n",
    "model_save_path = \"svd_model.pkl\"\n",
    "with open(model_save_path,'wb') as file:\n",
    "    pickle.dump(svd,file)"
   ]
  },
  {
   "cell_type": "code",
   "execution_count": 11,
   "id": "6a04a154",
   "metadata": {
    "execution": {
     "iopub.execute_input": "2024-06-22T07:29:58.035629Z",
     "iopub.status.busy": "2024-06-22T07:29:58.032034Z",
     "iopub.status.idle": "2024-06-22T07:30:13.646302Z",
     "shell.execute_reply": "2024-06-22T07:30:13.644386Z"
    },
    "papermill": {
     "duration": 15.647723,
     "end_time": "2024-06-22T07:30:13.649387",
     "exception": false,
     "start_time": "2024-06-22T07:29:58.001664",
     "status": "completed"
    },
    "tags": []
   },
   "outputs": [],
   "source": [
    "model_load_path = \"svd_model.pkl\"\n",
    "with open(model_load_path,'rb') as file:\n",
    "    unpickled_model = pickle.load(file)"
   ]
  },
  {
   "cell_type": "code",
   "execution_count": 12,
   "id": "b90f061f",
   "metadata": {
    "execution": {
     "iopub.execute_input": "2024-06-22T07:30:13.671453Z",
     "iopub.status.busy": "2024-06-22T07:30:13.671057Z",
     "iopub.status.idle": "2024-06-22T07:30:59.053667Z",
     "shell.execute_reply": "2024-06-22T07:30:59.052412Z"
    },
    "papermill": {
     "duration": 45.39729,
     "end_time": "2024-06-22T07:30:59.056623",
     "exception": false,
     "start_time": "2024-06-22T07:30:13.659333",
     "status": "completed"
    },
    "tags": []
   },
   "outputs": [],
   "source": [
    "# Extract the userIds and corresponding movieIds into a python list\n",
    "userId  = test['userId'].values.tolist()\n",
    "movieId = test['movieId'].values.tolist()\n",
    "\n",
    "# Create a range of numbers which is the size of list created above\n",
    "count = len(userId)\n",
    "rating = []\n",
    "ids = []\n",
    "\n",
    "# Make rating predictions with the corresponding userIds and movieIds, accessed through indexing\n",
    "for i in range(count):\n",
    "    result = svd.predict(userId[i], movieId[i])[3]\n",
    "\n",
    "    # Store the predicted rating\n",
    "    rating.append(result)\n",
    "\n",
    "    # Prepare, save userId and movieId for submission\n",
    "    ids.append(str(userId[i]) + '_' + str(movieId[i]))"
   ]
  },
  {
   "cell_type": "code",
   "execution_count": 13,
   "id": "06298a63",
   "metadata": {
    "execution": {
     "iopub.execute_input": "2024-06-22T07:30:59.074865Z",
     "iopub.status.busy": "2024-06-22T07:30:59.074454Z",
     "iopub.status.idle": "2024-06-22T07:31:00.322860Z",
     "shell.execute_reply": "2024-06-22T07:31:00.321694Z"
    },
    "papermill": {
     "duration": 1.261137,
     "end_time": "2024-06-22T07:31:00.326367",
     "exception": false,
     "start_time": "2024-06-22T07:30:59.065230",
     "status": "completed"
    },
    "tags": []
   },
   "outputs": [
    {
     "data": {
      "text/html": [
       "<div>\n",
       "<style scoped>\n",
       "    .dataframe tbody tr th:only-of-type {\n",
       "        vertical-align: middle;\n",
       "    }\n",
       "\n",
       "    .dataframe tbody tr th {\n",
       "        vertical-align: top;\n",
       "    }\n",
       "\n",
       "    .dataframe thead th {\n",
       "        text-align: right;\n",
       "    }\n",
       "</style>\n",
       "<table border=\"1\" class=\"dataframe\">\n",
       "  <thead>\n",
       "    <tr style=\"text-align: right;\">\n",
       "      <th></th>\n",
       "      <th>Id</th>\n",
       "      <th>rating</th>\n",
       "    </tr>\n",
       "  </thead>\n",
       "  <tbody>\n",
       "    <tr>\n",
       "      <th>0</th>\n",
       "      <td>1_2011</td>\n",
       "      <td>3.241999</td>\n",
       "    </tr>\n",
       "    <tr>\n",
       "      <th>1</th>\n",
       "      <td>1_4144</td>\n",
       "      <td>4.167554</td>\n",
       "    </tr>\n",
       "    <tr>\n",
       "      <th>2</th>\n",
       "      <td>1_5767</td>\n",
       "      <td>3.714021</td>\n",
       "    </tr>\n",
       "    <tr>\n",
       "      <th>3</th>\n",
       "      <td>1_6711</td>\n",
       "      <td>4.044816</td>\n",
       "    </tr>\n",
       "    <tr>\n",
       "      <th>4</th>\n",
       "      <td>1_7318</td>\n",
       "      <td>2.918314</td>\n",
       "    </tr>\n",
       "  </tbody>\n",
       "</table>\n",
       "</div>"
      ],
      "text/plain": [
       "       Id    rating\n",
       "0  1_2011  3.241999\n",
       "1  1_4144  4.167554\n",
       "2  1_5767  3.714021\n",
       "3  1_6711  4.044816\n",
       "4  1_7318  2.918314"
      ]
     },
     "execution_count": 13,
     "metadata": {},
     "output_type": "execute_result"
    }
   ],
   "source": [
    "# Convert ids and ratings to dataframe\n",
    "test_sub_df =  pd.DataFrame({'Id': ids, 'rating': rating})\n",
    "test_sub_df.head()"
   ]
  },
  {
   "cell_type": "code",
   "execution_count": 14,
   "id": "3205a24e",
   "metadata": {
    "execution": {
     "iopub.execute_input": "2024-06-22T07:31:00.345435Z",
     "iopub.status.busy": "2024-06-22T07:31:00.345008Z",
     "iopub.status.idle": "2024-06-22T07:31:00.352386Z",
     "shell.execute_reply": "2024-06-22T07:31:00.351106Z"
    },
    "papermill": {
     "duration": 0.019992,
     "end_time": "2024-06-22T07:31:00.354722",
     "exception": false,
     "start_time": "2024-06-22T07:31:00.334730",
     "status": "completed"
    },
    "tags": []
   },
   "outputs": [
    {
     "data": {
      "text/plain": [
       "(5000019, 2)"
      ]
     },
     "execution_count": 14,
     "metadata": {},
     "output_type": "execute_result"
    }
   ],
   "source": [
    "test_sub_df.shape"
   ]
  },
  {
   "cell_type": "code",
   "execution_count": 15,
   "id": "ba6615b3",
   "metadata": {
    "execution": {
     "iopub.execute_input": "2024-06-22T07:31:00.374405Z",
     "iopub.status.busy": "2024-06-22T07:31:00.373988Z",
     "iopub.status.idle": "2024-06-22T07:31:02.920051Z",
     "shell.execute_reply": "2024-06-22T07:31:02.919029Z"
    },
    "papermill": {
     "duration": 2.557935,
     "end_time": "2024-06-22T07:31:02.922157",
     "exception": false,
     "start_time": "2024-06-22T07:31:00.364222",
     "status": "completed"
    },
    "tags": []
   },
   "outputs": [
    {
     "data": {
      "text/plain": [
       "0"
      ]
     },
     "execution_count": 15,
     "metadata": {},
     "output_type": "execute_result"
    }
   ],
   "source": [
    "gc.collect()"
   ]
  },
  {
   "cell_type": "code",
   "execution_count": 16,
   "id": "562165ed",
   "metadata": {
    "execution": {
     "iopub.execute_input": "2024-06-22T07:31:02.940637Z",
     "iopub.status.busy": "2024-06-22T07:31:02.940220Z",
     "iopub.status.idle": "2024-06-22T07:31:13.535860Z",
     "shell.execute_reply": "2024-06-22T07:31:13.534536Z"
    },
    "papermill": {
     "duration": 10.608159,
     "end_time": "2024-06-22T07:31:13.538594",
     "exception": false,
     "start_time": "2024-06-22T07:31:02.930435",
     "status": "completed"
    },
    "tags": []
   },
   "outputs": [],
   "source": [
    "# Convert dataframe to csv file for submission.\n",
    "test_sub_df.to_csv('Kaggle_submission.csv', index=False)"
   ]
  }
 ],
 "metadata": {
  "kaggle": {
   "accelerator": "none",
   "dataSources": [
    {
     "databundleVersionId": 8778365,
     "sourceId": 81285,
     "sourceType": "competition"
    }
   ],
   "dockerImageVersionId": 30732,
   "isGpuEnabled": false,
   "isInternetEnabled": false,
   "language": "python",
   "sourceType": "notebook"
  },
  "kernelspec": {
   "display_name": "Python 3",
   "language": "python",
   "name": "python3"
  },
  "language_info": {
   "codemirror_mode": {
    "name": "ipython",
    "version": 3
   },
   "file_extension": ".py",
   "mimetype": "text/x-python",
   "name": "python",
   "nbconvert_exporter": "python",
   "pygments_lexer": "ipython3",
   "version": "3.10.13"
  },
  "papermill": {
   "default_parameters": {},
   "duration": 4361.512675,
   "end_time": "2024-06-22T07:31:16.883771",
   "environment_variables": {},
   "exception": null,
   "input_path": "__notebook__.ipynb",
   "output_path": "__notebook__.ipynb",
   "parameters": {},
   "start_time": "2024-06-22T06:18:35.371096",
   "version": "2.5.0"
  }
 },
 "nbformat": 4,
 "nbformat_minor": 5
}
